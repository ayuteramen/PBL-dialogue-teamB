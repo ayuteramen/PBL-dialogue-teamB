{
  "nbformat": 4,
  "nbformat_minor": 0,
  "metadata": {
    "colab": {
      "provenance": []
    },
    "kernelspec": {
      "name": "python3",
      "display_name": "Python 3"
    },
    "language_info": {
      "name": "python"
    }
  },
  "cells": [
    {
      "cell_type": "code",
      "execution_count": 62,
      "metadata": {
        "id": "6a7LmTj4U0Rm"
      },
      "outputs": [],
      "source": [
        "ans1 = []\n",
        "ans2 = []\n",
        "with open('/content/tweet_pairs.txt', 'r') as f:\n",
        "    for line in f:\n",
        "        data = []\n",
        "        data = line.split(\"\\t\")\n",
        "        ans1.append(data[0] + data[1])\n",
        "        ans2.append(data[2])\n",
        "\n",
        "with open('col1.txt', 'w') as f1:\n",
        "    for word1 in ans1:\n",
        "        f1.write(\"%s\\n\" % word1)\n",
        "with open('col2.txt', 'w') as f2:\n",
        "    for word2 in ans2:\n",
        "        f2.write(\"%s\" % word2)"
      ]
    },
    {
      "cell_type": "code",
      "source": [
        "! pip install janome"
      ],
      "metadata": {
        "colab": {
          "base_uri": "https://localhost:8080/"
        },
        "id": "_X1-9IWCdWq6",
        "outputId": "b47b5c1f-1b82-44a5-87ed-d76b09bb4040"
      },
      "execution_count": 4,
      "outputs": [
        {
          "output_type": "stream",
          "name": "stdout",
          "text": [
            "Looking in indexes: https://pypi.org/simple, https://us-python.pkg.dev/colab-wheels/public/simple/\n",
            "Collecting janome\n",
            "  Downloading Janome-0.4.2-py2.py3-none-any.whl (19.7 MB)\n",
            "\u001b[K     |████████████████████████████████| 19.7 MB 7.0 MB/s \n",
            "\u001b[?25hInstalling collected packages: janome\n",
            "Successfully installed janome-0.4.2\n"
          ]
        }
      ]
    },
    {
      "cell_type": "code",
      "source": [
        "from janome.tokenizer import Tokenizer\n",
        "t = Tokenizer(\"/content/dict.csv\", udic_type=\"simpledic\", udic_enc=\"utf8\")"
      ],
      "metadata": {
        "id": "I1OAZ4VHc5ka"
      },
      "execution_count": 56,
      "outputs": []
    },
    {
      "cell_type": "code",
      "source": [
        "fin1=open('col1.txt')\n",
        "col1=fin1.read()\n",
        "fin1.close()"
      ],
      "metadata": {
        "id": "JjFRSZdkh9ta"
      },
      "execution_count": 63,
      "outputs": []
    },
    {
      "cell_type": "code",
      "source": [
        "fin2=open('col2.txt')\n",
        "col2=fin2.read()\n",
        "fin2.close()"
      ],
      "metadata": {
        "id": "2Kdq5-KX7jdS"
      },
      "execution_count": 64,
      "outputs": []
    },
    {
      "cell_type": "code",
      "source": [
        "with open('split1.txt', 'w') as f3:\n",
        "    for token in t.tokenize(col1):\n",
        "        f3.write(token.surface)\n",
        "        if token.surface != \"\\n\":\n",
        "            f3.write(\" \")"
      ],
      "metadata": {
        "id": "dd-WKSJe99CB"
      },
      "execution_count": 65,
      "outputs": []
    },
    {
      "cell_type": "code",
      "source": [
        "with open('split2.txt', 'w') as f4:\n",
        "    for token in t.tokenize(col2):\n",
        "        f4.write(token.surface)\n",
        "        if token.surface != \"\\n\":\n",
        "            f4.write(\" \")"
      ],
      "metadata": {
        "id": "i9WhcAT_im1-"
      },
      "execution_count": 66,
      "outputs": []
    }
  ]
}