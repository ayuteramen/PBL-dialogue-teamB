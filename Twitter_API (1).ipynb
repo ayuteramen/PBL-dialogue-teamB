{
  "nbformat": 4,
  "nbformat_minor": 0,
  "metadata": {
    "colab": {
      "provenance": []
    },
    "kernelspec": {
      "name": "python3",
      "display_name": "Python 3"
    },
    "language_info": {
      "name": "python"
    }
  },
  "cells": [
    {
      "cell_type": "code",
      "source": [
        "!pip3 install tweepy"
      ],
      "metadata": {
        "colab": {
          "base_uri": "https://localhost:8080/"
        },
        "id": "DLO4phu_Qjp7",
        "outputId": "283f0f91-8fcb-45f3-b7c8-9bffe0842fd9"
      },
      "execution_count": 1,
      "outputs": [
        {
          "output_type": "stream",
          "name": "stdout",
          "text": [
            "Looking in indexes: https://pypi.org/simple, https://us-python.pkg.dev/colab-wheels/public/simple/\n",
            "Requirement already satisfied: tweepy in /usr/local/lib/python3.8/dist-packages (3.10.0)\n",
            "Requirement already satisfied: requests-oauthlib>=0.7.0 in /usr/local/lib/python3.8/dist-packages (from tweepy) (1.3.1)\n",
            "Requirement already satisfied: six>=1.10.0 in /usr/local/lib/python3.8/dist-packages (from tweepy) (1.15.0)\n",
            "Requirement already satisfied: requests[socks]>=2.11.1 in /usr/local/lib/python3.8/dist-packages (from tweepy) (2.23.0)\n",
            "Requirement already satisfied: oauthlib>=3.0.0 in /usr/local/lib/python3.8/dist-packages (from requests-oauthlib>=0.7.0->tweepy) (3.2.2)\n",
            "Requirement already satisfied: idna<3,>=2.5 in /usr/local/lib/python3.8/dist-packages (from requests[socks]>=2.11.1->tweepy) (2.10)\n",
            "Requirement already satisfied: chardet<4,>=3.0.2 in /usr/local/lib/python3.8/dist-packages (from requests[socks]>=2.11.1->tweepy) (3.0.4)\n",
            "Requirement already satisfied: certifi>=2017.4.17 in /usr/local/lib/python3.8/dist-packages (from requests[socks]>=2.11.1->tweepy) (2022.9.24)\n",
            "Requirement already satisfied: urllib3!=1.25.0,!=1.25.1,<1.26,>=1.21.1 in /usr/local/lib/python3.8/dist-packages (from requests[socks]>=2.11.1->tweepy) (1.24.3)\n",
            "Requirement already satisfied: PySocks!=1.5.7,>=1.5.6 in /usr/local/lib/python3.8/dist-packages (from requests[socks]>=2.11.1->tweepy) (1.7.1)\n"
          ]
        }
      ]
    },
    {
      "cell_type": "code",
      "source": [
        "def age2tag(text):\n",
        "  age = int(text[:2])\n",
        "  if age < 20:\n",
        "    tag = '<10代>'\n",
        "  elif age < 40:\n",
        "    tag = '<20～30代>'\n",
        "  elif age < 70:\n",
        "    tag = '<40～60代>'\n",
        "  else:\n",
        "    tag = '<None>'\n",
        "  return tag"
      ],
      "metadata": {
        "id": "IXDE_9z_D78q"
      },
      "execution_count": 2,
      "outputs": []
    },
    {
      "cell_type": "code",
      "execution_count": 4,
      "metadata": {
        "id": "AqTK-OEwImZN",
        "colab": {
          "base_uri": "https://localhost:8080/",
          "height": 412
        },
        "outputId": "c342df44-fedd-4173-80ea-3eccd3f4859d"
      },
      "outputs": [
        {
          "output_type": "stream",
          "name": "stdout",
          "text": [
            "Write 576 pairs.\n"
          ]
        },
        {
          "output_type": "error",
          "ename": "KeyboardInterrupt",
          "evalue": "ignored",
          "traceback": [
            "\u001b[0;31m---------------------------------------------------------------------------\u001b[0m",
            "\u001b[0;31mKeyboardInterrupt\u001b[0m                         Traceback (most recent call last)",
            "\u001b[0;32m<ipython-input-4-5d1d8d680d7d>\u001b[0m in \u001b[0;36m<module>\u001b[0;34m\u001b[0m\n\u001b[1;32m     52\u001b[0m     \u001b[0;32mfor\u001b[0m \u001b[0mname\u001b[0m \u001b[0;32min\u001b[0m \u001b[0min_reply_to_screen_names\u001b[0m\u001b[0;34m:\u001b[0m\u001b[0;34m\u001b[0m\u001b[0;34m\u001b[0m\u001b[0m\n\u001b[1;32m     53\u001b[0m         \u001b[0;32mtry\u001b[0m\u001b[0;34m:\u001b[0m\u001b[0;34m\u001b[0m\u001b[0;34m\u001b[0m\u001b[0m\n\u001b[0;32m---> 54\u001b[0;31m           \u001b[0muser\u001b[0m \u001b[0;34m=\u001b[0m \u001b[0mapi\u001b[0m\u001b[0;34m.\u001b[0m\u001b[0mget_user\u001b[0m\u001b[0;34m(\u001b[0m\u001b[0mscreen_name\u001b[0m\u001b[0;34m=\u001b[0m\u001b[0mname\u001b[0m\u001b[0;34m)\u001b[0m\u001b[0;34m\u001b[0m\u001b[0;34m\u001b[0m\u001b[0m\n\u001b[0m\u001b[1;32m     55\u001b[0m           \u001b[0;32mif\u001b[0m \u001b[0mre\u001b[0m\u001b[0;34m.\u001b[0m\u001b[0msearch\u001b[0m\u001b[0;34m(\u001b[0m\u001b[0mpattern\u001b[0m\u001b[0;34m,\u001b[0m \u001b[0muser\u001b[0m\u001b[0;34m.\u001b[0m\u001b[0mdescription\u001b[0m\u001b[0;34m)\u001b[0m\u001b[0;34m:\u001b[0m\u001b[0;34m\u001b[0m\u001b[0;34m\u001b[0m\u001b[0m\n\u001b[1;32m     56\u001b[0m             \u001b[0;32mfor\u001b[0m \u001b[0ms\u001b[0m \u001b[0;32min\u001b[0m \u001b[0mapi\u001b[0m\u001b[0;34m.\u001b[0m\u001b[0muser_timeline\u001b[0m\u001b[0;34m(\u001b[0m\u001b[0mname\u001b[0m\u001b[0;34m,\u001b[0m \u001b[0mtweet_mode\u001b[0m\u001b[0;34m=\u001b[0m\u001b[0;34m'extended'\u001b[0m\u001b[0;34m,\u001b[0m \u001b[0mcount\u001b[0m\u001b[0;34m=\u001b[0m\u001b[0;36m200\u001b[0m\u001b[0;34m)\u001b[0m\u001b[0;34m:\u001b[0m\u001b[0;34m\u001b[0m\u001b[0;34m\u001b[0m\u001b[0m\n",
            "\u001b[0;32m/usr/local/lib/python3.8/dist-packages/tweepy/binder.py\u001b[0m in \u001b[0;36m_call\u001b[0;34m(*args, **kwargs)\u001b[0m\n\u001b[1;32m    251\u001b[0m                 \u001b[0;32mreturn\u001b[0m \u001b[0mmethod\u001b[0m\u001b[0;34m\u001b[0m\u001b[0;34m\u001b[0m\u001b[0m\n\u001b[1;32m    252\u001b[0m             \u001b[0;32melse\u001b[0m\u001b[0;34m:\u001b[0m\u001b[0;34m\u001b[0m\u001b[0;34m\u001b[0m\u001b[0m\n\u001b[0;32m--> 253\u001b[0;31m                 \u001b[0;32mreturn\u001b[0m \u001b[0mmethod\u001b[0m\u001b[0;34m.\u001b[0m\u001b[0mexecute\u001b[0m\u001b[0;34m(\u001b[0m\u001b[0;34m)\u001b[0m\u001b[0;34m\u001b[0m\u001b[0;34m\u001b[0m\u001b[0m\n\u001b[0m\u001b[1;32m    254\u001b[0m         \u001b[0;32mfinally\u001b[0m\u001b[0;34m:\u001b[0m\u001b[0;34m\u001b[0m\u001b[0;34m\u001b[0m\u001b[0m\n\u001b[1;32m    255\u001b[0m             \u001b[0mmethod\u001b[0m\u001b[0;34m.\u001b[0m\u001b[0msession\u001b[0m\u001b[0;34m.\u001b[0m\u001b[0mclose\u001b[0m\u001b[0;34m(\u001b[0m\u001b[0;34m)\u001b[0m\u001b[0;34m\u001b[0m\u001b[0;34m\u001b[0m\u001b[0m\n",
            "\u001b[0;32m/usr/local/lib/python3.8/dist-packages/tweepy/binder.py\u001b[0m in \u001b[0;36mexecute\u001b[0;34m(self)\u001b[0m\n\u001b[1;32m    182\u001b[0m                 \u001b[0;31m# Execute request\u001b[0m\u001b[0;34m\u001b[0m\u001b[0;34m\u001b[0m\u001b[0;34m\u001b[0m\u001b[0m\n\u001b[1;32m    183\u001b[0m                 \u001b[0;32mtry\u001b[0m\u001b[0;34m:\u001b[0m\u001b[0;34m\u001b[0m\u001b[0;34m\u001b[0m\u001b[0m\n\u001b[0;32m--> 184\u001b[0;31m                     resp = self.session.request(self.method,\n\u001b[0m\u001b[1;32m    185\u001b[0m                                                 \u001b[0mfull_url\u001b[0m\u001b[0;34m,\u001b[0m\u001b[0;34m\u001b[0m\u001b[0;34m\u001b[0m\u001b[0m\n\u001b[1;32m    186\u001b[0m                                                 \u001b[0mdata\u001b[0m\u001b[0;34m=\u001b[0m\u001b[0mself\u001b[0m\u001b[0;34m.\u001b[0m\u001b[0mpost_data\u001b[0m\u001b[0;34m,\u001b[0m\u001b[0;34m\u001b[0m\u001b[0;34m\u001b[0m\u001b[0m\n",
            "\u001b[0;32m/usr/local/lib/python3.8/dist-packages/requests/sessions.py\u001b[0m in \u001b[0;36mrequest\u001b[0;34m(self, method, url, params, data, headers, cookies, files, auth, timeout, allow_redirects, proxies, hooks, stream, verify, cert, json)\u001b[0m\n\u001b[1;32m    528\u001b[0m         }\n\u001b[1;32m    529\u001b[0m         \u001b[0msend_kwargs\u001b[0m\u001b[0;34m.\u001b[0m\u001b[0mupdate\u001b[0m\u001b[0;34m(\u001b[0m\u001b[0msettings\u001b[0m\u001b[0;34m)\u001b[0m\u001b[0;34m\u001b[0m\u001b[0;34m\u001b[0m\u001b[0m\n\u001b[0;32m--> 530\u001b[0;31m         \u001b[0mresp\u001b[0m \u001b[0;34m=\u001b[0m \u001b[0mself\u001b[0m\u001b[0;34m.\u001b[0m\u001b[0msend\u001b[0m\u001b[0;34m(\u001b[0m\u001b[0mprep\u001b[0m\u001b[0;34m,\u001b[0m \u001b[0;34m**\u001b[0m\u001b[0msend_kwargs\u001b[0m\u001b[0;34m)\u001b[0m\u001b[0;34m\u001b[0m\u001b[0;34m\u001b[0m\u001b[0m\n\u001b[0m\u001b[1;32m    531\u001b[0m \u001b[0;34m\u001b[0m\u001b[0m\n\u001b[1;32m    532\u001b[0m         \u001b[0;32mreturn\u001b[0m \u001b[0mresp\u001b[0m\u001b[0;34m\u001b[0m\u001b[0;34m\u001b[0m\u001b[0m\n",
            "\u001b[0;32m/usr/local/lib/python3.8/dist-packages/requests/sessions.py\u001b[0m in \u001b[0;36msend\u001b[0;34m(self, request, **kwargs)\u001b[0m\n\u001b[1;32m    641\u001b[0m \u001b[0;34m\u001b[0m\u001b[0m\n\u001b[1;32m    642\u001b[0m         \u001b[0;31m# Send the request\u001b[0m\u001b[0;34m\u001b[0m\u001b[0;34m\u001b[0m\u001b[0;34m\u001b[0m\u001b[0m\n\u001b[0;32m--> 643\u001b[0;31m         \u001b[0mr\u001b[0m \u001b[0;34m=\u001b[0m \u001b[0madapter\u001b[0m\u001b[0;34m.\u001b[0m\u001b[0msend\u001b[0m\u001b[0;34m(\u001b[0m\u001b[0mrequest\u001b[0m\u001b[0;34m,\u001b[0m \u001b[0;34m**\u001b[0m\u001b[0mkwargs\u001b[0m\u001b[0;34m)\u001b[0m\u001b[0;34m\u001b[0m\u001b[0;34m\u001b[0m\u001b[0m\n\u001b[0m\u001b[1;32m    644\u001b[0m \u001b[0;34m\u001b[0m\u001b[0m\n\u001b[1;32m    645\u001b[0m         \u001b[0;31m# Total elapsed time of the request (approximately)\u001b[0m\u001b[0;34m\u001b[0m\u001b[0;34m\u001b[0m\u001b[0;34m\u001b[0m\u001b[0m\n",
            "\u001b[0;32m/usr/local/lib/python3.8/dist-packages/requests/adapters.py\u001b[0m in \u001b[0;36msend\u001b[0;34m(self, request, stream, timeout, verify, cert, proxies)\u001b[0m\n\u001b[1;32m    437\u001b[0m         \u001b[0;32mtry\u001b[0m\u001b[0;34m:\u001b[0m\u001b[0;34m\u001b[0m\u001b[0;34m\u001b[0m\u001b[0m\n\u001b[1;32m    438\u001b[0m             \u001b[0;32mif\u001b[0m \u001b[0;32mnot\u001b[0m \u001b[0mchunked\u001b[0m\u001b[0;34m:\u001b[0m\u001b[0;34m\u001b[0m\u001b[0;34m\u001b[0m\u001b[0m\n\u001b[0;32m--> 439\u001b[0;31m                 resp = conn.urlopen(\n\u001b[0m\u001b[1;32m    440\u001b[0m                     \u001b[0mmethod\u001b[0m\u001b[0;34m=\u001b[0m\u001b[0mrequest\u001b[0m\u001b[0;34m.\u001b[0m\u001b[0mmethod\u001b[0m\u001b[0;34m,\u001b[0m\u001b[0;34m\u001b[0m\u001b[0;34m\u001b[0m\u001b[0m\n\u001b[1;32m    441\u001b[0m                     \u001b[0murl\u001b[0m\u001b[0;34m=\u001b[0m\u001b[0murl\u001b[0m\u001b[0;34m,\u001b[0m\u001b[0;34m\u001b[0m\u001b[0;34m\u001b[0m\u001b[0m\n",
            "\u001b[0;32m/usr/local/lib/python3.8/dist-packages/urllib3/connectionpool.py\u001b[0m in \u001b[0;36murlopen\u001b[0;34m(self, method, url, body, headers, retries, redirect, assert_same_host, timeout, pool_timeout, release_conn, chunked, body_pos, **response_kw)\u001b[0m\n\u001b[1;32m    595\u001b[0m \u001b[0;34m\u001b[0m\u001b[0m\n\u001b[1;32m    596\u001b[0m             \u001b[0;31m# Make the request on the httplib connection object.\u001b[0m\u001b[0;34m\u001b[0m\u001b[0;34m\u001b[0m\u001b[0;34m\u001b[0m\u001b[0m\n\u001b[0;32m--> 597\u001b[0;31m             httplib_response = self._make_request(conn, method, url,\n\u001b[0m\u001b[1;32m    598\u001b[0m                                                   \u001b[0mtimeout\u001b[0m\u001b[0;34m=\u001b[0m\u001b[0mtimeout_obj\u001b[0m\u001b[0;34m,\u001b[0m\u001b[0;34m\u001b[0m\u001b[0;34m\u001b[0m\u001b[0m\n\u001b[1;32m    599\u001b[0m                                                   \u001b[0mbody\u001b[0m\u001b[0;34m=\u001b[0m\u001b[0mbody\u001b[0m\u001b[0;34m,\u001b[0m \u001b[0mheaders\u001b[0m\u001b[0;34m=\u001b[0m\u001b[0mheaders\u001b[0m\u001b[0;34m,\u001b[0m\u001b[0;34m\u001b[0m\u001b[0;34m\u001b[0m\u001b[0m\n",
            "\u001b[0;32m/usr/local/lib/python3.8/dist-packages/urllib3/connectionpool.py\u001b[0m in \u001b[0;36m_make_request\u001b[0;34m(self, conn, method, url, timeout, chunked, **httplib_request_kw)\u001b[0m\n\u001b[1;32m    341\u001b[0m         \u001b[0;31m# Trigger any extra validation we need to do.\u001b[0m\u001b[0;34m\u001b[0m\u001b[0;34m\u001b[0m\u001b[0;34m\u001b[0m\u001b[0m\n\u001b[1;32m    342\u001b[0m         \u001b[0;32mtry\u001b[0m\u001b[0;34m:\u001b[0m\u001b[0;34m\u001b[0m\u001b[0;34m\u001b[0m\u001b[0m\n\u001b[0;32m--> 343\u001b[0;31m             \u001b[0mself\u001b[0m\u001b[0;34m.\u001b[0m\u001b[0m_validate_conn\u001b[0m\u001b[0;34m(\u001b[0m\u001b[0mconn\u001b[0m\u001b[0;34m)\u001b[0m\u001b[0;34m\u001b[0m\u001b[0;34m\u001b[0m\u001b[0m\n\u001b[0m\u001b[1;32m    344\u001b[0m         \u001b[0;32mexcept\u001b[0m \u001b[0;34m(\u001b[0m\u001b[0mSocketTimeout\u001b[0m\u001b[0;34m,\u001b[0m \u001b[0mBaseSSLError\u001b[0m\u001b[0;34m)\u001b[0m \u001b[0;32mas\u001b[0m \u001b[0me\u001b[0m\u001b[0;34m:\u001b[0m\u001b[0;34m\u001b[0m\u001b[0;34m\u001b[0m\u001b[0m\n\u001b[1;32m    345\u001b[0m             \u001b[0;31m# Py2 raises this as a BaseSSLError, Py3 raises it as socket timeout.\u001b[0m\u001b[0;34m\u001b[0m\u001b[0;34m\u001b[0m\u001b[0;34m\u001b[0m\u001b[0m\n",
            "\u001b[0;32m/usr/local/lib/python3.8/dist-packages/urllib3/connectionpool.py\u001b[0m in \u001b[0;36m_validate_conn\u001b[0;34m(self, conn)\u001b[0m\n\u001b[1;32m    837\u001b[0m         \u001b[0;31m# Force connect early to allow us to validate the connection.\u001b[0m\u001b[0;34m\u001b[0m\u001b[0;34m\u001b[0m\u001b[0;34m\u001b[0m\u001b[0m\n\u001b[1;32m    838\u001b[0m         \u001b[0;32mif\u001b[0m \u001b[0;32mnot\u001b[0m \u001b[0mgetattr\u001b[0m\u001b[0;34m(\u001b[0m\u001b[0mconn\u001b[0m\u001b[0;34m,\u001b[0m \u001b[0;34m'sock'\u001b[0m\u001b[0;34m,\u001b[0m \u001b[0;32mNone\u001b[0m\u001b[0;34m)\u001b[0m\u001b[0;34m:\u001b[0m  \u001b[0;31m# AppEngine might not have  `.sock`\u001b[0m\u001b[0;34m\u001b[0m\u001b[0;34m\u001b[0m\u001b[0m\n\u001b[0;32m--> 839\u001b[0;31m             \u001b[0mconn\u001b[0m\u001b[0;34m.\u001b[0m\u001b[0mconnect\u001b[0m\u001b[0;34m(\u001b[0m\u001b[0;34m)\u001b[0m\u001b[0;34m\u001b[0m\u001b[0;34m\u001b[0m\u001b[0m\n\u001b[0m\u001b[1;32m    840\u001b[0m \u001b[0;34m\u001b[0m\u001b[0m\n\u001b[1;32m    841\u001b[0m         \u001b[0;32mif\u001b[0m \u001b[0;32mnot\u001b[0m \u001b[0mconn\u001b[0m\u001b[0;34m.\u001b[0m\u001b[0mis_verified\u001b[0m\u001b[0;34m:\u001b[0m\u001b[0;34m\u001b[0m\u001b[0;34m\u001b[0m\u001b[0m\n",
            "\u001b[0;32m/usr/local/lib/python3.8/dist-packages/urllib3/connection.py\u001b[0m in \u001b[0;36mconnect\u001b[0;34m(self)\u001b[0m\n\u001b[1;32m    299\u001b[0m     \u001b[0;32mdef\u001b[0m \u001b[0mconnect\u001b[0m\u001b[0;34m(\u001b[0m\u001b[0mself\u001b[0m\u001b[0;34m)\u001b[0m\u001b[0;34m:\u001b[0m\u001b[0;34m\u001b[0m\u001b[0;34m\u001b[0m\u001b[0m\n\u001b[1;32m    300\u001b[0m         \u001b[0;31m# Add certificate verification\u001b[0m\u001b[0;34m\u001b[0m\u001b[0;34m\u001b[0m\u001b[0;34m\u001b[0m\u001b[0m\n\u001b[0;32m--> 301\u001b[0;31m         \u001b[0mconn\u001b[0m \u001b[0;34m=\u001b[0m \u001b[0mself\u001b[0m\u001b[0;34m.\u001b[0m\u001b[0m_new_conn\u001b[0m\u001b[0;34m(\u001b[0m\u001b[0;34m)\u001b[0m\u001b[0;34m\u001b[0m\u001b[0;34m\u001b[0m\u001b[0m\n\u001b[0m\u001b[1;32m    302\u001b[0m         \u001b[0mhostname\u001b[0m \u001b[0;34m=\u001b[0m \u001b[0mself\u001b[0m\u001b[0;34m.\u001b[0m\u001b[0mhost\u001b[0m\u001b[0;34m\u001b[0m\u001b[0;34m\u001b[0m\u001b[0m\n\u001b[1;32m    303\u001b[0m \u001b[0;34m\u001b[0m\u001b[0m\n",
            "\u001b[0;32m/usr/local/lib/python3.8/dist-packages/urllib3/connection.py\u001b[0m in \u001b[0;36m_new_conn\u001b[0;34m(self)\u001b[0m\n\u001b[1;32m    156\u001b[0m \u001b[0;34m\u001b[0m\u001b[0m\n\u001b[1;32m    157\u001b[0m         \u001b[0;32mtry\u001b[0m\u001b[0;34m:\u001b[0m\u001b[0;34m\u001b[0m\u001b[0;34m\u001b[0m\u001b[0m\n\u001b[0;32m--> 158\u001b[0;31m             conn = connection.create_connection(\n\u001b[0m\u001b[1;32m    159\u001b[0m                 (self._dns_host, self.port), self.timeout, **extra_kw)\n\u001b[1;32m    160\u001b[0m \u001b[0;34m\u001b[0m\u001b[0m\n",
            "\u001b[0;32m/usr/local/lib/python3.8/dist-packages/urllib3/util/connection.py\u001b[0m in \u001b[0;36mcreate_connection\u001b[0;34m(address, timeout, source_address, socket_options)\u001b[0m\n\u001b[1;32m     68\u001b[0m             \u001b[0;32mif\u001b[0m \u001b[0msource_address\u001b[0m\u001b[0;34m:\u001b[0m\u001b[0;34m\u001b[0m\u001b[0;34m\u001b[0m\u001b[0m\n\u001b[1;32m     69\u001b[0m                 \u001b[0msock\u001b[0m\u001b[0;34m.\u001b[0m\u001b[0mbind\u001b[0m\u001b[0;34m(\u001b[0m\u001b[0msource_address\u001b[0m\u001b[0;34m)\u001b[0m\u001b[0;34m\u001b[0m\u001b[0;34m\u001b[0m\u001b[0m\n\u001b[0;32m---> 70\u001b[0;31m             \u001b[0msock\u001b[0m\u001b[0;34m.\u001b[0m\u001b[0mconnect\u001b[0m\u001b[0;34m(\u001b[0m\u001b[0msa\u001b[0m\u001b[0;34m)\u001b[0m\u001b[0;34m\u001b[0m\u001b[0;34m\u001b[0m\u001b[0m\n\u001b[0m\u001b[1;32m     71\u001b[0m             \u001b[0;32mreturn\u001b[0m \u001b[0msock\u001b[0m\u001b[0;34m\u001b[0m\u001b[0;34m\u001b[0m\u001b[0m\n\u001b[1;32m     72\u001b[0m \u001b[0;34m\u001b[0m\u001b[0m\n",
            "\u001b[0;31mKeyboardInterrupt\u001b[0m: "
          ]
        }
      ],
      "source": [
        "import tweepy\n",
        "import random\n",
        "import re\n",
        "\n",
        "\n",
        "while True:\n",
        "    api_key = 'yDw48aKG3Trf56AHoCNBp558l'\n",
        "    api_secret_key = '2XU9UfJgUGlhKJwDe7dIIHOJZ828EZqheWs8niCV6jvH5TxiZg'\n",
        "    access_token = '3041224710-AMaUeWnNloLRGcitnx5lAsIrdIh59jC5ehWkfeX'\n",
        "    access_token_secret = '4238EOYuICrESgWiH3ZDx35o8hiE1QWPFPx061hygy14u'\n",
        "\n",
        "    auth = tweepy.OAuthHandler(api_key, api_secret_key)\n",
        "    auth.set_access_token(access_token, access_token_secret)\n",
        "    api = tweepy.API(auth_handler=auth, wait_on_rate_limit=True)\n",
        "\n",
        "    # botのツイートを除外するため，一般的なクライアント名を列挙\n",
        "    sources = [\"TweetDeck\", \"Twitter Web Client\", \"Twitter for iPhone\",\n",
        "               \"Twitter for iPad\", \"Twitter for Android\", \"Twitter for Android Tablets\",\n",
        "               \"ついっぷる\", \"Janetter\", \"twicca\", \"Keitai Web\", \"Twitter for Mac\"]\n",
        "    \n",
        "\n",
        "    # ひらがな一文字で検索し，スクリーンネームを取得\n",
        "    words = list(\"あいうえおかきくけこさしすせそたちつてとなにぬねのはひふへほまみむめもやゆよらりるれろわをん\")\n",
        "    \n",
        "    # screen_name（ユーザー名）を取得している\n",
        "    screen_names = set()\n",
        "    for s in api.search(q=random.choice(words), lang='ja', result_type='recent', count=100, tweet_mode='extended'):\n",
        "        if s.source in sources:\n",
        "            screen_names.add(s.author.screen_name)\n",
        "\n",
        "    # ステータスidからステータスを得るためのdict\n",
        "    id2status = {}\n",
        "\n",
        "    # スクリーンネームからタイムラインを取得してツイートを保存．\n",
        "    # さらにリプライツイートであれば，リプライ先のスクリーンネームも取得\n",
        "    in_reply_to_screen_names = set()\n",
        "    for name in screen_names:\n",
        "        try:\n",
        "            for s in api.user_timeline(name, tweet_mode='extended', count=200):\n",
        "                # リンクもしくはハッシュタグを含むツイートは除外する\n",
        "                if \"http\" not in s.full_text and \"#\" not in s.full_text:\n",
        "                    id2status[s.id] = s\n",
        "                    if s.in_reply_to_screen_name is not None:\n",
        "                        if s.in_reply_to_screen_name not in screen_names:\n",
        "                            in_reply_to_screen_names.add(s.in_reply_to_screen_name)\n",
        "        except Exception as e:\n",
        "            continue\n",
        "\n",
        "    # リプライ先のスクリーンネームからタイムラインを取得してツイートを保存\n",
        "    # 例）年齢を含むツイートを表示する\n",
        "    pattern = re.compile('[1-6][0-9][\\u6B73\\u4EE3]')\n",
        "    for name in in_reply_to_screen_names:\n",
        "        try:\n",
        "          user = api.get_user(screen_name=name)\n",
        "          if re.search(pattern, user.description):\n",
        "            for s in api.user_timeline(name, tweet_mode='extended', count=200):\n",
        "                if \"http\" not in s.full_text and \"#\" not in s.full_text:\n",
        "                    id2status[s.id] = s\n",
        "        except Exception as e:\n",
        "            continue\n",
        "\n",
        "    # 保存したツイートのリプライ先のツイートが保存されていれば，id2replyidのキーを元ツイートのid，値をリプライ先ツイートのidとする\n",
        "    id2replyid = {}\n",
        "    for _, s in id2status.items():\n",
        "        if s.in_reply_to_status_id in id2status:\n",
        "            id2replyid[s.in_reply_to_status_id] = s.id\n",
        "\n",
        "    # id2replyidのkey valueからstatusを取得し，ツイートペアをタブ区切りで保存\n",
        "    # 例）年齢を含むツイートを表示する\n",
        "    pattern = re.compile('[1-6][0-9][\\u6B73\\u4EE3]')\n",
        "    f = open(\"tweet_pairs.txt\", \"a\")\n",
        "    for id, rid in id2replyid.items():\n",
        "        user = api.get_user(screen_name=id2status[rid].author.screen_name)\n",
        "        if re.search(pattern, user.description):\n",
        "            # 改行は半角スペースに置換\n",
        "            tweet1 = id2status[id].full_text.replace(\"\\n\", \" \")\n",
        "            # スクリーンネームを正規表現を用いて削除\n",
        "            tweet1 = re.sub(r\"@[0-9a-zA-Z_]{1,15} +\", \"\", tweet1)\n",
        "\n",
        "            tweet2 = id2status[rid].full_text.replace(\"\\n\", \" \")\n",
        "            tweet2 = re.sub(r\"@[0-9a-zA-Z_]{1,15} +\", \"\", tweet2)\n",
        "            \n",
        "            tag = age2tag(''.join(re.findall(pattern, user.description)[0]))\n",
        "\n",
        "            f.write(tag + tweet1+ \"\\t\" + tweet2 + \"\\n\")\n",
        "    f.close()\n",
        "    print(\"Write \" + str(len(id2replyid)) + \" pairs.\")\n"
      ]
    },
    {
      "cell_type": "markdown",
      "source": [
        "# **分析**"
      ],
      "metadata": {
        "id": "epXcgv6_nelq"
      }
    },
    {
      "cell_type": "markdown",
      "source": [
        "上のコードで行っていること\n",
        "\n",
        "1. ランダムにツイートを検索している（27～29行）\n",
        "2. ツイートのスクリーンネームを取得して（29行）、そのユーザの行ったツイートを取得する。また、そのユーザのリプライ先のユーザのスクリーンネームを取得する（32～47行）。\n",
        "3. リプライ先のスクリーンネームから、ユーザのツイートを取得する（50～56行）。\n",
        "* 1,2,3を繰り返すことでツイートとリプライのペアを取得する。 "
      ],
      "metadata": {
        "id": "xitcfTNekPx6"
      }
    },
    {
      "cell_type": "code",
      "source": [
        "api_key = 'yDw48aKG3Trf56AHoCNBp558l'\n",
        "api_secret_key = '2XU9UfJgUGlhKJwDe7dIIHOJZ828EZqheWs8niCV6jvH5TxiZg'\n",
        "access_token = '3041224710-AMaUeWnNloLRGcitnx5lAsIrdIh59jC5ehWkfeX'\n",
        "access_token_secret = '4238EOYuICrESgWiH3ZDx35o8hiE1QWPFPx061hygy14u'\n",
        "\n",
        "auth = tweepy.OAuthHandler(api_key, api_secret_key)\n",
        "auth.set_access_token(access_token, access_token_secret)\n",
        "api = tweepy.API(auth_handler=auth, wait_on_rate_limit=True)\n",
        "\n",
        "# botのツイートを除外するため，一般的なクライアント名を列挙\n",
        "sources = [\"TweetDeck\", \"Twitter Web Client\", \"Twitter for iPhone\",\n",
        "           \"Twitter for iPad\", \"Twitter for Android\", \"Twitter for Android Tablets\",\n",
        "           \"ついっぷる\", \"Janetter\", \"twicca\", \"Keitai Web\", \"Twitter for Mac\"]\n",
        "    \n",
        "\n",
        "# ひらがな一文字で検索し，スクリーンネームを取得\n",
        "words = list(\"あいうえおかきくけこさしすせそたちつてとなにぬねのはひふへほまみむめもやゆよらりるれろわをん\")\n",
        "    \n",
        "# screen_name（ユーザー名）を取得している\n",
        "screen_names = set()\n",
        "for s in api.search(q=random.choice(words), lang='ja', result_type='recent', count=100, tweet_mode='extended'):\n",
        "    if s.source in sources:\n",
        "        screen_names.add(s.author.screen_name)\n",
        "\n",
        "# ステータスidからステータスを得るためのdict\n",
        "id2status = {}\n",
        "\n",
        "# スクリーンネームからタイムラインを取得してツイートを保存．\n",
        "# さらにリプライツイートであれば，リプライ先のスクリーンネームも取得\n",
        "in_reply_to_screen_names = set()\n",
        "for name in screen_names:\n",
        "    try:\n",
        "        for s in api.user_timeline(name, tweet_mode='extended', count=100):\n",
        "            # リンクもしくはハッシュタグを含むツイートは除外する\n",
        "            if \"http\" not in s.full_text and \"#\" not in s.full_text:\n",
        "                id2status[s.id] = s\n",
        "                if s.in_reply_to_screen_name is not None:\n",
        "                    if s.in_reply_to_screen_name not in screen_names:\n",
        "                        in_reply_to_screen_names.add(s.in_reply_to_screen_name)\n",
        "    except Exception as e:\n",
        "        continue\n",
        "\n",
        "# リプライ先のスクリーンネームからタイムラインを取得してツイートを保存\n",
        "for name in in_reply_to_screen_names:\n",
        "    try:\n",
        "        for s in api.user_timeline(name, tweet_mode='extended', count=100):\n",
        "            if \"http\" not in s.full_text and \"#\" not in s.full_text:\n",
        "                id2status[s.id] = s\n",
        "    except Exception as e:\n",
        "        continue\n",
        "\n",
        "# 保存したツイートのリプライ先のツイートが保存されていれば，id2replyidのキーを元ツイートのid，値をリプライ先ツイートのidとする\n",
        "id2replyid = {}\n",
        "for _, s in id2status.items():\n",
        "    if s.in_reply_to_status_id in id2status:\n",
        "            id2replyid[s.in_reply_to_status_id] = s.id\n",
        "\n",
        "# id2replyidのkey valueからstatusを取得し，ツイートペアをタブ区切りで保存\n",
        "# 例）年齢を含むツイートを表示する\n",
        "pattern = re.compile('[0-9]{2}[\\u6B73\\u4EE3]')\n",
        "f = open(\"tweet_pairs.txt\", \"w\")\n",
        "for id, rid in id2replyid.items():\n",
        "    user = api.get_user(screen_name=id2status[rid].author.screen_name)\n",
        "    if re.search(pattern, user.description):\n",
        "        # 改行は半角スペースに置換\n",
        "        tweet1 = id2status[id].full_text.replace(\"\\n\", \" \")\n",
        "        # スクリーンネームを正規表現を用いて削除\n",
        "        tweet1 = re.sub(r\"@[0-9a-zA-Z_]{1,15} +\", \"\", tweet1)\n",
        "\n",
        "    \n",
        "        tweet2 = id2status[rid].full_text.replace(\"\\n\", \" \")\n",
        "        tweet2 = re.sub(r\"@[0-9a-zA-Z_]{1,15} +\", \"\", tweet2)\n",
        "        tweet2 = '<' + ''.join(re.findall(pattern, user.description)) + '>' + tweet2\n",
        "\n",
        "        f.write(tweet1+ \"\\t\" + tweet2 + \"\\n\")\n",
        "f.close()\n",
        "print(\"Write \" + str(len(id2replyid)) + \" pairs.\")"
      ],
      "metadata": {
        "id": "2SvpccBrc-mZ"
      },
      "execution_count": null,
      "outputs": []
    },
    {
      "cell_type": "code",
      "source": [
        "pattern = re.compile('[0-9]+[\\u6B73\\u4EE3]')\n",
        "for _, s in id2status.items():\n",
        "    if s.in_reply_to_status_id in id2status:\n",
        "        user = api.get_user(screen_name=s.author.screen_name)\n",
        "        if re.search(pattern, user.description):\n",
        "            tweet = s.full_text + '<' + ''.join(re.findall(pattern, user.description)) + '>'\n",
        "            print(tweet)"
      ],
      "metadata": {
        "id": "1G3x1Wi-ve36"
      },
      "execution_count": null,
      "outputs": []
    },
    {
      "cell_type": "code",
      "source": [
        "import re\n",
        "pattern = re.compile('[1-6][0-9][\\/\\u6B73\\u4EE3]')\n",
        "s='10歳になりました30代の男です20/'\n",
        "if re.search(pattern, s):\n",
        "  print(re.findall(pattern, s))"
      ],
      "metadata": {
        "colab": {
          "base_uri": "https://localhost:8080/"
        },
        "id": "50i0N-B6ho4n",
        "outputId": "9ed80c35-f6bb-431a-fae7-bb666d1a5a76"
      },
      "execution_count": null,
      "outputs": [
        {
          "output_type": "stream",
          "name": "stdout",
          "text": [
            "['10歳', '30代', '20/']\n"
          ]
        }
      ]
    }
  ]
}