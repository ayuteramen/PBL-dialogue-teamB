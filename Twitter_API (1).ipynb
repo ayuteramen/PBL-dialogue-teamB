{
  "nbformat": 4,
  "nbformat_minor": 0,
  "metadata": {
    "colab": {
      "provenance": []
    },
    "kernelspec": {
      "name": "python3",
      "display_name": "Python 3"
    },
    "language_info": {
      "name": "python"
    }
  },
  "cells": [
    {
      "cell_type": "code",
      "source": [
        "!pip3 install tweepy"
      ],
      "metadata": {
        "colab": {
          "base_uri": "https://localhost:8080/"
        },
        "id": "DLO4phu_Qjp7",
        "outputId": "506b4005-5d8d-4269-f4c3-67bbcf0b3eb1"
      },
      "execution_count": null,
      "outputs": [
        {
          "output_type": "stream",
          "name": "stdout",
          "text": [
            "Looking in indexes: https://pypi.org/simple, https://us-python.pkg.dev/colab-wheels/public/simple/\n",
            "Requirement already satisfied: tweepy in /usr/local/lib/python3.8/dist-packages (3.10.0)\n",
            "Requirement already satisfied: requests[socks]>=2.11.1 in /usr/local/lib/python3.8/dist-packages (from tweepy) (2.23.0)\n",
            "Requirement already satisfied: requests-oauthlib>=0.7.0 in /usr/local/lib/python3.8/dist-packages (from tweepy) (1.3.1)\n",
            "Requirement already satisfied: six>=1.10.0 in /usr/local/lib/python3.8/dist-packages (from tweepy) (1.15.0)\n",
            "Requirement already satisfied: oauthlib>=3.0.0 in /usr/local/lib/python3.8/dist-packages (from requests-oauthlib>=0.7.0->tweepy) (3.2.2)\n",
            "Requirement already satisfied: certifi>=2017.4.17 in /usr/local/lib/python3.8/dist-packages (from requests[socks]>=2.11.1->tweepy) (2022.9.24)\n",
            "Requirement already satisfied: urllib3!=1.25.0,!=1.25.1,<1.26,>=1.21.1 in /usr/local/lib/python3.8/dist-packages (from requests[socks]>=2.11.1->tweepy) (1.24.3)\n",
            "Requirement already satisfied: chardet<4,>=3.0.2 in /usr/local/lib/python3.8/dist-packages (from requests[socks]>=2.11.1->tweepy) (3.0.4)\n",
            "Requirement already satisfied: idna<3,>=2.5 in /usr/local/lib/python3.8/dist-packages (from requests[socks]>=2.11.1->tweepy) (2.10)\n",
            "Requirement already satisfied: PySocks!=1.5.7,>=1.5.6 in /usr/local/lib/python3.8/dist-packages (from requests[socks]>=2.11.1->tweepy) (1.7.1)\n"
          ]
        }
      ]
    },
    {
      "cell_type": "code",
      "source": [
        "def age2tag(text):\n",
        "  age = int(text[:2])\n",
        "  if age < 20:\n",
        "    tag = '<10代>'\n",
        "  elif age < 40:\n",
        "    tag = '<20～30代>'\n",
        "  elif age < 70:\n",
        "    tag = '<40～60代>'\n",
        "  else:\n",
        "    tag = '<None>'\n",
        "  return tag"
      ],
      "metadata": {
        "id": "IXDE_9z_D78q"
      },
      "execution_count": null,
      "outputs": []
    },
    {
      "cell_type": "code",
      "execution_count": null,
      "metadata": {
        "id": "AqTK-OEwImZN",
        "colab": {
          "base_uri": "https://localhost:8080/",
          "height": 394
        },
        "outputId": "673c6605-929c-40f6-b62e-d89bcef865ed"
      },
      "outputs": [
        {
          "output_type": "error",
          "ename": "KeyboardInterrupt",
          "evalue": "ignored",
          "traceback": [
            "\u001b[0;31m---------------------------------------------------------------------------\u001b[0m",
            "\u001b[0;31mKeyboardInterrupt\u001b[0m                         Traceback (most recent call last)",
            "\u001b[0;32m<ipython-input-10-660eba87d4ea>\u001b[0m in \u001b[0;36m<module>\u001b[0;34m\u001b[0m\n\u001b[1;32m     67\u001b[0m     \u001b[0mf\u001b[0m \u001b[0;34m=\u001b[0m \u001b[0mopen\u001b[0m\u001b[0;34m(\u001b[0m\u001b[0;34m\"tweet_pairs.txt\"\u001b[0m\u001b[0;34m,\u001b[0m \u001b[0;34m\"a\"\u001b[0m\u001b[0;34m)\u001b[0m\u001b[0;34m\u001b[0m\u001b[0;34m\u001b[0m\u001b[0m\n\u001b[1;32m     68\u001b[0m     \u001b[0;32mfor\u001b[0m \u001b[0mid\u001b[0m\u001b[0;34m,\u001b[0m \u001b[0mrid\u001b[0m \u001b[0;32min\u001b[0m \u001b[0mid2replyid\u001b[0m\u001b[0;34m.\u001b[0m\u001b[0mitems\u001b[0m\u001b[0;34m(\u001b[0m\u001b[0;34m)\u001b[0m\u001b[0;34m:\u001b[0m\u001b[0;34m\u001b[0m\u001b[0;34m\u001b[0m\u001b[0m\n\u001b[0;32m---> 69\u001b[0;31m         \u001b[0muser\u001b[0m \u001b[0;34m=\u001b[0m \u001b[0mapi\u001b[0m\u001b[0;34m.\u001b[0m\u001b[0mget_user\u001b[0m\u001b[0;34m(\u001b[0m\u001b[0mscreen_name\u001b[0m\u001b[0;34m=\u001b[0m\u001b[0mid2status\u001b[0m\u001b[0;34m[\u001b[0m\u001b[0mrid\u001b[0m\u001b[0;34m]\u001b[0m\u001b[0;34m.\u001b[0m\u001b[0mauthor\u001b[0m\u001b[0;34m.\u001b[0m\u001b[0mscreen_name\u001b[0m\u001b[0;34m)\u001b[0m\u001b[0;34m\u001b[0m\u001b[0;34m\u001b[0m\u001b[0m\n\u001b[0m\u001b[1;32m     70\u001b[0m         \u001b[0;32mif\u001b[0m \u001b[0mre\u001b[0m\u001b[0;34m.\u001b[0m\u001b[0msearch\u001b[0m\u001b[0;34m(\u001b[0m\u001b[0mpattern\u001b[0m\u001b[0;34m,\u001b[0m \u001b[0muser\u001b[0m\u001b[0;34m.\u001b[0m\u001b[0mdescription\u001b[0m\u001b[0;34m)\u001b[0m\u001b[0;34m:\u001b[0m\u001b[0;34m\u001b[0m\u001b[0;34m\u001b[0m\u001b[0m\n\u001b[1;32m     71\u001b[0m             \u001b[0;31m# 改行は半角スペースに置換\u001b[0m\u001b[0;34m\u001b[0m\u001b[0;34m\u001b[0m\u001b[0;34m\u001b[0m\u001b[0m\n",
            "\u001b[0;32m/usr/local/lib/python3.8/dist-packages/tweepy/binder.py\u001b[0m in \u001b[0;36m_call\u001b[0;34m(*args, **kwargs)\u001b[0m\n\u001b[1;32m    251\u001b[0m                 \u001b[0;32mreturn\u001b[0m \u001b[0mmethod\u001b[0m\u001b[0;34m\u001b[0m\u001b[0;34m\u001b[0m\u001b[0m\n\u001b[1;32m    252\u001b[0m             \u001b[0;32melse\u001b[0m\u001b[0;34m:\u001b[0m\u001b[0;34m\u001b[0m\u001b[0;34m\u001b[0m\u001b[0m\n\u001b[0;32m--> 253\u001b[0;31m                 \u001b[0;32mreturn\u001b[0m \u001b[0mmethod\u001b[0m\u001b[0;34m.\u001b[0m\u001b[0mexecute\u001b[0m\u001b[0;34m(\u001b[0m\u001b[0;34m)\u001b[0m\u001b[0;34m\u001b[0m\u001b[0;34m\u001b[0m\u001b[0m\n\u001b[0m\u001b[1;32m    254\u001b[0m         \u001b[0;32mfinally\u001b[0m\u001b[0;34m:\u001b[0m\u001b[0;34m\u001b[0m\u001b[0;34m\u001b[0m\u001b[0m\n\u001b[1;32m    255\u001b[0m             \u001b[0mmethod\u001b[0m\u001b[0;34m.\u001b[0m\u001b[0msession\u001b[0m\u001b[0;34m.\u001b[0m\u001b[0mclose\u001b[0m\u001b[0;34m(\u001b[0m\u001b[0;34m)\u001b[0m\u001b[0;34m\u001b[0m\u001b[0;34m\u001b[0m\u001b[0m\n",
            "\u001b[0;32m/usr/local/lib/python3.8/dist-packages/tweepy/binder.py\u001b[0m in \u001b[0;36mexecute\u001b[0;34m(self)\u001b[0m\n\u001b[1;32m    161\u001b[0m                                     \u001b[0;32mif\u001b[0m \u001b[0mself\u001b[0m\u001b[0;34m.\u001b[0m\u001b[0mwait_on_rate_limit_notify\u001b[0m\u001b[0;34m:\u001b[0m\u001b[0;34m\u001b[0m\u001b[0;34m\u001b[0m\u001b[0m\n\u001b[1;32m    162\u001b[0m                                         \u001b[0mlog\u001b[0m\u001b[0;34m.\u001b[0m\u001b[0mwarning\u001b[0m\u001b[0;34m(\u001b[0m\u001b[0;34m\"Rate limit reached. Sleeping for: %d\"\u001b[0m \u001b[0;34m%\u001b[0m \u001b[0msleep_time\u001b[0m\u001b[0;34m)\u001b[0m\u001b[0;34m\u001b[0m\u001b[0;34m\u001b[0m\u001b[0m\n\u001b[0;32m--> 163\u001b[0;31m                                     \u001b[0mtime\u001b[0m\u001b[0;34m.\u001b[0m\u001b[0msleep\u001b[0m\u001b[0;34m(\u001b[0m\u001b[0msleep_time\u001b[0m \u001b[0;34m+\u001b[0m \u001b[0;36m5\u001b[0m\u001b[0;34m)\u001b[0m  \u001b[0;31m# sleep for few extra sec\u001b[0m\u001b[0;34m\u001b[0m\u001b[0;34m\u001b[0m\u001b[0m\n\u001b[0m\u001b[1;32m    164\u001b[0m \u001b[0;34m\u001b[0m\u001b[0m\n\u001b[1;32m    165\u001b[0m                 \u001b[0;31m# if self.wait_on_rate_limit and self._reset_time is not None and \\\u001b[0m\u001b[0;34m\u001b[0m\u001b[0;34m\u001b[0m\u001b[0;34m\u001b[0m\u001b[0m\n",
            "\u001b[0;31mKeyboardInterrupt\u001b[0m: "
          ]
        }
      ],
      "source": [
        "import tweepy\n",
        "import random\n",
        "import re\n",
        "\n",
        "\n",
        "while True:\n",
        "    api_key = 'yDw48aKG3Trf56AHoCNBp558l'\n",
        "    api_secret_key = '2XU9UfJgUGlhKJwDe7dIIHOJZ828EZqheWs8niCV6jvH5TxiZg'\n",
        "    access_token = '3041224710-AMaUeWnNloLRGcitnx5lAsIrdIh59jC5ehWkfeX'\n",
        "    access_token_secret = '4238EOYuICrESgWiH3ZDx35o8hiE1QWPFPx061hygy14u'\n",
        "\n",
        "    auth = tweepy.OAuthHandler(api_key, api_secret_key)\n",
        "    auth.set_access_token(access_token, access_token_secret)\n",
        "    api = tweepy.API(auth_handler=auth, wait_on_rate_limit=True)\n",
        "\n",
        "    # botのツイートを除外するため，一般的なクライアント名を列挙\n",
        "    sources = [\"TweetDeck\", \"Twitter Web Client\", \"Twitter for iPhone\",\n",
        "               \"Twitter for iPad\", \"Twitter for Android\", \"Twitter for Android Tablets\",\n",
        "               \"ついっぷる\", \"Janetter\", \"twicca\", \"Keitai Web\", \"Twitter for Mac\"]\n",
        "    \n",
        "\n",
        "    # ひらがな一文字で検索し，スクリーンネームを取得\n",
        "    words = list(\"あいうえおかきくけこさしすせそたちつてとなにぬねのはひふへほまみむめもやゆよらりるれろわをん\")\n",
        "    \n",
        "    # screen_name（ユーザー名）を取得している\n",
        "    screen_names = set()\n",
        "    for s in api.search(q=random.choice(words), lang='ja', result_type='recent', count=100, tweet_mode='extended'):\n",
        "        if s.source in sources:\n",
        "            screen_names.add(s.author.screen_name)\n",
        "\n",
        "    # ステータスidからステータスを得るためのdict\n",
        "    id2status = {}\n",
        "\n",
        "    # スクリーンネームからタイムラインを取得してツイートを保存．\n",
        "    # さらにリプライツイートであれば，リプライ先のスクリーンネームも取得\n",
        "    in_reply_to_screen_names = set()\n",
        "    for name in screen_names:\n",
        "        try:\n",
        "            for s in api.user_timeline(name, tweet_mode='extended', count=200):\n",
        "                # リンクもしくはハッシュタグを含むツイートは除外する\n",
        "                if \"http\" not in s.full_text and \"#\" not in s.full_text:\n",
        "                    id2status[s.id] = s\n",
        "                    if s.in_reply_to_screen_name is not None:\n",
        "                        if s.in_reply_to_screen_name not in screen_names:\n",
        "                            in_reply_to_screen_names.add(s.in_reply_to_screen_name)\n",
        "        except Exception as e:\n",
        "            continue\n",
        "\n",
        "    # リプライ先のスクリーンネームからタイムラインを取得してツイートを保存\n",
        "    for name in in_reply_to_screen_names:\n",
        "        try:\n",
        "            for s in api.user_timeline(name, tweet_mode='extended', count=200):\n",
        "                if \"http\" not in s.full_text and \"#\" not in s.full_text:\n",
        "                    id2status[s.id] = s\n",
        "        except Exception as e:\n",
        "            continue\n",
        "\n",
        "    # 保存したツイートのリプライ先のツイートが保存されていれば，id2replyidのキーを元ツイートのid，値をリプライ先ツイートのidとする\n",
        "    id2replyid = {}\n",
        "    for _, s in id2status.items():\n",
        "        if s.in_reply_to_status_id in id2status:\n",
        "            id2replyid[s.in_reply_to_status_id] = s.id\n",
        "\n",
        "    # id2replyidのkey valueからstatusを取得し，ツイートペアをタブ区切りで保存\n",
        "    # 例）年齢を含むツイートを表示する\n",
        "    pattern = re.compile('[1-6][0-9][\\u6B73\\u4EE3]')\n",
        "    f = open(\"tweet_pairs.txt\", \"a\")\n",
        "    for id, rid in id2replyid.items():\n",
        "        user = api.get_user(screen_name=id2status[rid].author.screen_name)\n",
        "        if re.search(pattern, user.description):\n",
        "            # 改行は半角スペースに置換\n",
        "            tweet1 = id2status[id].full_text.replace(\"\\n\", \" \")\n",
        "            # スクリーンネームを正規表現を用いて削除\n",
        "            tweet1 = re.sub(r\"@[0-9a-zA-Z_]{1,15} +\", \"\", tweet1)\n",
        "\n",
        "            tweet2 = id2status[rid].full_text.replace(\"\\n\", \" \")\n",
        "            tweet2 = re.sub(r\"@[0-9a-zA-Z_]{1,15} +\", \"\", tweet2)\n",
        "            \n",
        "            tag = age2tag(''.join(re.findall(pattern, user.description)[0]))\n",
        "\n",
        "            f.write(tag + tweet1+ \"\\t\" + tweet2 + \"\\n\")\n",
        "    f.close()\n",
        "    print(\"Write \" + str(len(id2replyid)) + \" pairs.\")\n"
      ]
    },
    {
      "cell_type": "markdown",
      "source": [
        "# **分析**"
      ],
      "metadata": {
        "id": "epXcgv6_nelq"
      }
    },
    {
      "cell_type": "markdown",
      "source": [
        "上のコードで行っていること\n",
        "\n",
        "1. ランダムにツイートを検索している（27～29行）\n",
        "2. ツイートのスクリーンネームを取得して（29行）、そのユーザの行ったツイートを取得する。また、そのユーザのリプライ先のユーザのスクリーンネームを取得する（32～47行）。\n",
        "3. リプライ先のスクリーンネームから、ユーザのツイートを取得する（50～56行）。\n",
        "* 1,2,3を繰り返すことでツイートとリプライのペアを取得する。 "
      ],
      "metadata": {
        "id": "xitcfTNekPx6"
      }
    },
    {
      "cell_type": "code",
      "source": [
        "api_key = 'yDw48aKG3Trf56AHoCNBp558l'\n",
        "api_secret_key = '2XU9UfJgUGlhKJwDe7dIIHOJZ828EZqheWs8niCV6jvH5TxiZg'\n",
        "access_token = '3041224710-AMaUeWnNloLRGcitnx5lAsIrdIh59jC5ehWkfeX'\n",
        "access_token_secret = '4238EOYuICrESgWiH3ZDx35o8hiE1QWPFPx061hygy14u'\n",
        "\n",
        "auth = tweepy.OAuthHandler(api_key, api_secret_key)\n",
        "auth.set_access_token(access_token, access_token_secret)\n",
        "api = tweepy.API(auth_handler=auth, wait_on_rate_limit=True)\n",
        "\n",
        "# botのツイートを除外するため，一般的なクライアント名を列挙\n",
        "sources = [\"TweetDeck\", \"Twitter Web Client\", \"Twitter for iPhone\",\n",
        "           \"Twitter for iPad\", \"Twitter for Android\", \"Twitter for Android Tablets\",\n",
        "           \"ついっぷる\", \"Janetter\", \"twicca\", \"Keitai Web\", \"Twitter for Mac\"]\n",
        "    \n",
        "\n",
        "# ひらがな一文字で検索し，スクリーンネームを取得\n",
        "words = list(\"あいうえおかきくけこさしすせそたちつてとなにぬねのはひふへほまみむめもやゆよらりるれろわをん\")\n",
        "    \n",
        "# screen_name（ユーザー名）を取得している\n",
        "screen_names = set()\n",
        "for s in api.search(q=random.choice(words), lang='ja', result_type='recent', count=100, tweet_mode='extended'):\n",
        "    if s.source in sources:\n",
        "        screen_names.add(s.author.screen_name)\n",
        "\n",
        "# ステータスidからステータスを得るためのdict\n",
        "id2status = {}\n",
        "\n",
        "# スクリーンネームからタイムラインを取得してツイートを保存．\n",
        "# さらにリプライツイートであれば，リプライ先のスクリーンネームも取得\n",
        "in_reply_to_screen_names = set()\n",
        "for name in screen_names:\n",
        "    try:\n",
        "        for s in api.user_timeline(name, tweet_mode='extended', count=100):\n",
        "            # リンクもしくはハッシュタグを含むツイートは除外する\n",
        "            if \"http\" not in s.full_text and \"#\" not in s.full_text:\n",
        "                id2status[s.id] = s\n",
        "                if s.in_reply_to_screen_name is not None:\n",
        "                    if s.in_reply_to_screen_name not in screen_names:\n",
        "                        in_reply_to_screen_names.add(s.in_reply_to_screen_name)\n",
        "    except Exception as e:\n",
        "        continue\n",
        "\n",
        "# リプライ先のスクリーンネームからタイムラインを取得してツイートを保存\n",
        "for name in in_reply_to_screen_names:\n",
        "    try:\n",
        "        for s in api.user_timeline(name, tweet_mode='extended', count=100):\n",
        "            if \"http\" not in s.full_text and \"#\" not in s.full_text:\n",
        "                id2status[s.id] = s\n",
        "    except Exception as e:\n",
        "        continue\n",
        "\n",
        "# 保存したツイートのリプライ先のツイートが保存されていれば，id2replyidのキーを元ツイートのid，値をリプライ先ツイートのidとする\n",
        "id2replyid = {}\n",
        "for _, s in id2status.items():\n",
        "    if s.in_reply_to_status_id in id2status:\n",
        "            id2replyid[s.in_reply_to_status_id] = s.id\n",
        "\n",
        "# id2replyidのkey valueからstatusを取得し，ツイートペアをタブ区切りで保存\n",
        "# 例）年齢を含むツイートを表示する\n",
        "pattern = re.compile('[0-9]{2}[\\u6B73\\u4EE3]')\n",
        "f = open(\"tweet_pairs.txt\", \"w\")\n",
        "for id, rid in id2replyid.items():\n",
        "    user = api.get_user(screen_name=id2status[rid].author.screen_name)\n",
        "    if re.search(pattern, user.description):\n",
        "        # 改行は半角スペースに置換\n",
        "        tweet1 = id2status[id].full_text.replace(\"\\n\", \" \")\n",
        "        # スクリーンネームを正規表現を用いて削除\n",
        "        tweet1 = re.sub(r\"@[0-9a-zA-Z_]{1,15} +\", \"\", tweet1)\n",
        "\n",
        "    \n",
        "        tweet2 = id2status[rid].full_text.replace(\"\\n\", \" \")\n",
        "        tweet2 = re.sub(r\"@[0-9a-zA-Z_]{1,15} +\", \"\", tweet2)\n",
        "        tweet2 = '<' + ''.join(re.findall(pattern, user.description)) + '>' + tweet2\n",
        "\n",
        "        f.write(tweet1+ \"\\t\" + tweet2 + \"\\n\")\n",
        "f.close()\n",
        "print(\"Write \" + str(len(id2replyid)) + \" pairs.\")"
      ],
      "metadata": {
        "id": "2SvpccBrc-mZ"
      },
      "execution_count": null,
      "outputs": []
    },
    {
      "cell_type": "code",
      "source": [
        "pattern = re.compile('[0-9]+[\\u6B73\\u4EE3]')\n",
        "for _, s in id2status.items():\n",
        "    if s.in_reply_to_status_id in id2status:\n",
        "        user = api.get_user(screen_name=s.author.screen_name)\n",
        "        if re.search(pattern, user.description):\n",
        "            tweet = s.full_text + '<' + ''.join(re.findall(pattern, user.description)) + '>'\n",
        "            print(tweet)"
      ],
      "metadata": {
        "id": "1G3x1Wi-ve36"
      },
      "execution_count": null,
      "outputs": []
    },
    {
      "cell_type": "code",
      "source": [
        "import re\n",
        "pattern = re.compile('[1-6][0-9][\\/\\u6B73\\u4EE3]')\n",
        "s='10歳になりました30代の男です20/'\n",
        "if re.search(pattern, s):\n",
        "  print(re.findall(pattern, s))"
      ],
      "metadata": {
        "colab": {
          "base_uri": "https://localhost:8080/"
        },
        "id": "50i0N-B6ho4n",
        "outputId": "9ed80c35-f6bb-431a-fae7-bb666d1a5a76"
      },
      "execution_count": null,
      "outputs": [
        {
          "output_type": "stream",
          "name": "stdout",
          "text": [
            "['10歳', '30代', '20/']\n"
          ]
        }
      ]
    }
  ]
}